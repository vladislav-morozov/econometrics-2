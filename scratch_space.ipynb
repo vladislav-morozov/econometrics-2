{
 "cells": [
  {
   "cell_type": "code",
   "execution_count": null,
   "metadata": {},
   "outputs": [],
   "source": [
    "import matplotlib.pyplot as plt\n",
    "import matplotlib.ticker as ticker\n",
    "import numpy as np\n",
    "\n",
    "\n",
    "plt.rcParams[\"font.family\"] = \"sans-serif\"\n",
    "plt.rcParams[\"font.sans-serif\"] = [\"Arial\"]\n",
    "\n",
    "BG_COLOR = \"whitesmoke\"\n"
   ]
  },
  {
   "cell_type": "markdown",
   "metadata": {},
   "source": [
    "# BLOCK 1: Linear Regression 2\n"
   ]
  },
  {
   "cell_type": "markdown",
   "metadata": {},
   "source": [
    "## Lecture 1\n"
   ]
  },
  {
   "cell_type": "markdown",
   "metadata": {},
   "source": [
    "### SSR Plot"
   ]
  },
  {
   "cell_type": "code",
   "execution_count": null,
   "metadata": {},
   "outputs": [],
   "source": [
    "# Plotting and DGP constants\n",
    "BETA_1 = 0\n",
    "BETA_2 = 0 \n",
    "NUM_OBS = 200\n",
    "\n",
    "# Generate synthetic data\n",
    "rng = np.random.default_rng(1)\n",
    "X1 = rng.normal(size=NUM_OBS)\n",
    "X2 = rng.normal(size=NUM_OBS)\n",
    "Y = BETA_1 * X1 + BETA_2 * X2 + 0.1 * np.random.normal(size=NUM_OBS)\n",
    "\n",
    "\n",
    "# Create a grid of coefficients\n",
    "b1 = np.linspace(BETA_1 - 1, BETA_1 + 0.6, 250)\n",
    "b2 = np.linspace(BETA_2 - 1, BETA_2 + 1, 250)\n",
    "B1, B2 = np.meshgrid(b1, b2)\n",
    "\n",
    "# Plot the surface\n",
    "fig = plt.figure(figsize=(14, 6))\n",
    "fig.patch.set_facecolor(BG_COLOR)\n",
    "fig.patch.set_edgecolor('teal')\n",
    "fig.patch.set_linewidth(5)\n",
    "\n",
    "for fig_id in range(1, 3):\n",
    "\n",
    "    # Define SSR with and without multicollinearity\n",
    "    if fig_id == 1:\n",
    "        def ssr(b1, b2):\n",
    "            return np.mean((Y - (b1 * X1 + b2 * X2)) ** 2)\n",
    "        \n",
    "        title = \"$\\\\boldsymbol{X}'\\\\boldsymbol{X}$ invertible\"\n",
    "    else:\n",
    "        def ssr(b1, b2):\n",
    "            return np.mean((Y - (b1 * X1 + b2 * X1)) ** 2)\n",
    "        title = \"$\\\\boldsymbol{X}'\\\\boldsymbol{X}$ non-invertible\"\n",
    "\n",
    "    ssr_vec = np.vectorize(ssr)\n",
    "\n",
    "    # Compute SSR\n",
    "    SSR = ssr_vec(B1, B2)\n",
    "\n",
    "    # Plot SSR on the grid\n",
    "    ax = fig.add_subplot(1, 2, fig_id, projection = '3d', computed_zorder=False)\n",
    "    ax.plot_surface(\n",
    "        B1,\n",
    "        B2,\n",
    "        SSR,\n",
    "        cmap=\"cividis\",\n",
    "        alpha=0.9,\n",
    "        # edgecolor=\"ghostwhite\",\n",
    "        linewidth=0.01,\n",
    "        rstride=20,\n",
    "        cstride=20,  \n",
    "        antialiased=False,\n",
    "        shade=False,\n",
    "    )\n",
    "\n",
    "    # Style the axes\n",
    "    ax.set_xlabel(\"$b_1$\")\n",
    "    ax.set_ylabel(\"$b_2$\")\n",
    "    ax.set_zlabel(\"SSR\")\n",
    "    ax.view_init(elev=25, azim=20, roll=0)\n",
    "    ax.xaxis.pane.fill = False\n",
    "    ax.yaxis.pane.fill = False\n",
    "    ax.zaxis.pane.fill = False\n",
    "    ax.set_facecolor(BG_COLOR)\n",
    "    ax.xaxis.set_major_locator(ticker.MultipleLocator(0.5))\n",
    "    ax.yaxis.set_major_locator(ticker.MultipleLocator(0.5))\n",
    "    ax.zaxis.set_major_locator(ticker.MultipleLocator(1))\n",
    "    ax.set_title(title, loc='left')\n",
    "\n",
    "    # Add true point\n",
    "    ax.scatter(\n",
    "        BETA_1,\n",
    "        BETA_2,\n",
    "        ssr(BETA_1, BETA_1) + 0,\n",
    "        color=\"gold\",\n",
    "        s=10,\n",
    "        alpha=1,\n",
    "        zorder = 100\n",
    "    )\n",
    "\n",
    "fig.subplots_adjust(wspace=-0.1)\n",
    "plt.show()"
   ]
  },
  {
   "cell_type": "markdown",
   "metadata": {},
   "source": [
    "## Lecture 2: Identification\n"
   ]
  },
  {
   "cell_type": "markdown",
   "metadata": {},
   "source": [
    "### Different Normal PDFs"
   ]
  },
  {
   "cell_type": "code",
   "execution_count": null,
   "metadata": {},
   "outputs": [],
   "source": [
    "from scipy.stats import norm\n",
    "fig, ax = plt.subplots(1, 1, figsize = (8, 4))\n",
    "BG_COLOR = \"gainsboro\"\n",
    "fig.patch.set_facecolor(BG_COLOR)\n",
    "fig.patch.set_edgecolor(\"teal\")\n",
    "fig.patch.set_linewidth(5)\n",
    "x = np.linspace(norm.ppf(0.0001), norm.ppf(0.9999), 100)\n",
    "ax.plot(\n",
    "    x,\n",
    "    norm.cdf(x),\n",
    "    color = \"teal\",\n",
    "    lw=4,\n",
    "    alpha=0.6,\n",
    "    label=\"CDF under $\\\\theta$\",\n",
    ")\n",
    "ax.plot(\n",
    "    x,\n",
    "    norm.cdf(x, loc=1),\n",
    "    color = \"darkorange\",\n",
    "    linestyle = \"--\",\n",
    "    lw=4,\n",
    "    alpha=0.6,\n",
    "    label=\"CDF under $\\\\theta'$\",\n",
    ")\n",
    "ax.set_xlabel(\"$y$\")\n",
    "ax.legend()\n",
    "ax.set_facecolor(BG_COLOR)\n",
    "plt.show()"
   ]
  },
  {
   "cell_type": "code",
   "execution_count": null,
   "metadata": {},
   "outputs": [],
   "source": [
    "from scipy.stats import norm\n",
    "fig, ax = plt.subplots(1, 1, figsize = (8, 4))\n",
    "BG_COLOR = \"gainsboro\"\n",
    "fig.patch.set_facecolor(BG_COLOR)\n",
    "fig.patch.set_edgecolor(\"teal\")\n",
    "fig.patch.set_linewidth(5)\n",
    "x = np.linspace(norm.ppf(0.0001), norm.ppf(0.9999), 100)\n",
    "ax.plot(\n",
    "    x,\n",
    "    norm.cdf(x, loc=1),\n",
    "    color = \"teal\",\n",
    "    lw=4,\n",
    "    linestyle = \"-.\",\n",
    "    alpha=0.6,\n",
    "    label=\"CDF under $\\\\theta=-1$\",\n",
    ")\n",
    "ax.plot(\n",
    "    x,\n",
    "    norm.cdf(x, loc=1),\n",
    "    color = \"darkorange\",\n",
    "    linestyle = \"--\",\n",
    "    lw=4,\n",
    "    alpha=0.6,\n",
    "    label=\"CDF under $\\\\theta=1$\",\n",
    ")\n",
    "ax.set_xlabel(\"$y$\")\n",
    "ax.legend()\n",
    "ax.set_facecolor(BG_COLOR)\n",
    "plt.show()"
   ]
  }
 ],
 "metadata": {
  "kernelspec": {
   "display_name": "Python 3",
   "language": "python",
   "name": "python3"
  },
  "language_info": {
   "codemirror_mode": {
    "name": "ipython",
    "version": 3
   },
   "file_extension": ".py",
   "mimetype": "text/x-python",
   "name": "python",
   "nbconvert_exporter": "python",
   "pygments_lexer": "ipython3",
   "version": "3.12.7"
  }
 },
 "nbformat": 4,
 "nbformat_minor": 2
}
